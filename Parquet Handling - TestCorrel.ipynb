{
 "cells": [
  {
   "cell_type": "code",
   "execution_count": null,
   "metadata": {},
   "outputs": [],
   "source": [
    "spark"
   ]
  },
  {
   "cell_type": "code",
   "execution_count": null,
   "metadata": {},
   "outputs": [],
   "source": [
    "from pyspark.mllib.linalg import Vector, Vectors\n",
    "import numpy as np\n",
    "from pyspark.mllib.stat import Statistics\n",
    "import pandas as pd\n",
    "from hdfs import Config\n",
    "from pyspark.mllib.stat import Statistics\n",
    "import time\n",
    "from itertools import islice\n",
    "\n",
    "\n",
    "######## CONFIG #######################\n",
    "CLUSTER_ADD = \"hdfs://ad-cluster-master:54310\"\n",
    "SOURCE_DIR = \"/user/cluster/source_wfile/\"\n",
    "MODEL_DIR = \"/user/cluster/\"\n",
    "num_cores = 6\n",
    "gran = 3"
   ]
  },
  {
   "cell_type": "code",
   "execution_count": null,
   "metadata": {},
   "outputs": [],
   "source": [
    "df = spark.read.parquet(CLUSTER_ADD+\"/user/cluster/dataFSave.parquet\")"
   ]
  },
  {
   "cell_type": "code",
   "execution_count": null,
   "metadata": {},
   "outputs": [],
   "source": [
    "header = df.columns"
   ]
  },
  {
   "cell_type": "code",
   "execution_count": null,
   "metadata": {},
   "outputs": [],
   "source": [
    "Saved = df.cache()"
   ]
  },
  {
   "cell_type": "code",
   "execution_count": null,
   "metadata": {},
   "outputs": [],
   "source": [
    "Saved.stat.corr(header[0],header[1])"
   ]
  },
  {
   "cell_type": "code",
   "execution_count": null,
   "metadata": {},
   "outputs": [],
   "source": [
    "Saved.stat.corr(header[125],header[302])"
   ]
  },
  {
   "cell_type": "code",
   "execution_count": null,
   "metadata": {},
   "outputs": [],
   "source": [
    "t1 = time.time()\n",
    "t = len(header)\n",
    "Mat_cor = np.ones((t,t))\n",
    "\n",
    "\n",
    "for i in range(t):\n",
    "    for j in range(i+1,t):\n",
    "        print(\"i:\"+str(i)+\" j:\"+str(j))\n",
    "        Mat_cor[i,j] = Saved.stat.corr(header[i], header[j])\n",
    "        Mat_cor[j,i] = Mat_cor[i,j]\n",
    "        print(\"correl: \"+str(Mat_cor[i,j]))\n",
    "        \n",
    "t2 = time.time()\n",
    "print(\"####################################\")\n",
    "print(\"TIME TAKEN FOR TASK:\" + str(t2-t1))"
   ]
  },
  {
   "cell_type": "code",
   "execution_count": null,
   "metadata": {},
   "outputs": [],
   "source": []
  }
 ],
 "metadata": {
  "kernelspec": {
   "display_name": "Python 3",
   "language": "python",
   "name": "python3"
  },
  "language_info": {
   "codemirror_mode": {
    "name": "ipython",
    "version": 3
   },
   "file_extension": ".py",
   "mimetype": "text/x-python",
   "name": "python",
   "nbconvert_exporter": "python",
   "pygments_lexer": "ipython3",
   "version": "3.6.10"
  },
  "toc": {
   "base_numbering": 1,
   "nav_menu": {},
   "number_sections": true,
   "sideBar": true,
   "skip_h1_title": false,
   "title_cell": "Table of Contents",
   "title_sidebar": "Contents",
   "toc_cell": false,
   "toc_position": {},
   "toc_section_display": true,
   "toc_window_display": false
  }
 },
 "nbformat": 4,
 "nbformat_minor": 2
}
