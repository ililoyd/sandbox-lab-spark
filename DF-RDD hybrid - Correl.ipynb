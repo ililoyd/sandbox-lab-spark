{
 "cells": [
  {
   "cell_type": "code",
   "execution_count": null,
   "metadata": {},
   "outputs": [],
   "source": [
    "sc"
   ]
  },
  {
   "cell_type": "code",
   "execution_count": null,
   "metadata": {},
   "outputs": [],
   "source": [
    "from pyspark.mllib.linalg import Vector, Vectors\n",
    "import numpy as np\n",
    "from pyspark.mllib.stat import Statistics\n",
    "import pandas as pd\n",
    "from hdfs import Config\n",
    "from pyspark.mllib.stat import Statistics\n",
    "import time\n",
    "from itertools import islice\n",
    "\n",
    "SparkContext.setCheckpointDir(sc,\"hdfs://ad-cluster-master:54310/user/checkpoints/\")\n",
    "\n",
    "######## CONFIG #######################\n",
    "CLUSTER_ADD = \"hdfs://ad-cluster-master:54310\"\n",
    "SOURCE_DIR = \"/user/cluster/source_wfile/\"\n",
    "MODEL_DIR = \"/user/cluster/\"\n",
    "num_cores = 6\n",
    "gran = 3\n",
    "\n",
    "\n",
    "#########################################################################\n",
    "t1 = time.time()\n",
    "client = Config().get_client()\n",
    "FilesList = client.list(SOURCE_DIR)\n",
    "#FilesList = FilesList[:3] #Debug\n",
    "total = len(FilesList)\n",
    "\n",
    "i=0\n",
    "header = []\n",
    "\n",
    "\n",
    "##### PRELOAD DOUBLE INDEX ######\n",
    "rddFile = sc.textFile(CLUSTER_ADD + MODEL_DIR + \"model.csv\",  gran*num_cores)\n",
    "rddT = rddFile.map(lambda x: tuple(x.split(\",\"))).zipWithIndex().map(lambda x: (x[0][0], x[0][1],x[1]))\n",
    "\n",
    "op = rddT.toDF([\"date\",\"action\",\"uuid\"])            \n",
    "\n",
    "for file_ in FilesList:\n",
    "    i=i+1 \n",
    "    if i % 50 == 0:\n",
    "        #op.persist(StorageLevel.MEMORY_AND_DISK)\n",
    "        op.checkpoint()\n",
    "        op.count()\n",
    "        \n",
    "    print(\"#########\")\n",
    "    print(\"Task: #\" + str(i) + \"/\" + str(total))\n",
    "\n",
    "    rddFile = sc.textFile(CLUSTER_ADD + SOURCE_DIR + file_,\\\n",
    "                          gran*num_cores)\n",
    "    \n",
    "    header.append(rddFile.take(1)[0])\n",
    "    \n",
    "    rddT = rddFile.zipWithIndex().filter(lambda col: col[1] > 0).map(lambda x: (map(float,x)[0],x[1]))\n",
    "\n",
    "    df = rddT.toDF([header[i-1],\"uuid\"])\n",
    "    op = op.join(df, \"uuid\")\n",
    "    \n",
    "t2 = time.time()\n",
    "print(\"####################################\")\n",
    "print(\"TIME TAKEN FOR TASK:\" + str(t2-t1))\n",
    "\n",
    "print(\"#############################\")\n",
    "print(\"FILE LOADING TASK FINISHED\")\n",
    "print(\"\\n\")\n",
    "\n"
   ]
  }
 ],
 "metadata": {
  "kernelspec": {
   "display_name": "Python 3",
   "language": "python",
   "name": "python3"
  },
  "language_info": {
   "codemirror_mode": {
    "name": "ipython",
    "version": 3
   },
   "file_extension": ".py",
   "mimetype": "text/x-python",
   "name": "python",
   "nbconvert_exporter": "python",
   "pygments_lexer": "ipython3",
   "version": "3.6.10"
  },
  "toc": {
   "base_numbering": 1,
   "nav_menu": {},
   "number_sections": true,
   "sideBar": true,
   "skip_h1_title": false,
   "title_cell": "Table of Contents",
   "title_sidebar": "Contents",
   "toc_cell": false,
   "toc_position": {},
   "toc_section_display": true,
   "toc_window_display": false
  }
 },
 "nbformat": 4,
 "nbformat_minor": 2
}
